{
 "cells": [
  {
   "cell_type": "code",
   "execution_count": 1,
   "metadata": {},
   "outputs": [
    {
     "name": "stderr",
     "output_type": "stream",
     "text": [
      "C:\\Users\\Extra\\anaconda3\\lib\\site-packages\\numpy\\_distributor_init.py:32: UserWarning: loaded more than 1 DLL from .libs:\n",
      "C:\\Users\\Extra\\anaconda3\\lib\\site-packages\\numpy\\.libs\\libopenblas.QVLO2T66WEPI7JZ63PS3HMOHFEY472BC.gfortran-win_amd64.dll\n",
      "C:\\Users\\Extra\\anaconda3\\lib\\site-packages\\numpy\\.libs\\libopenblas.WCDJNK7YVMPZQ2ME2ZZHJJRJ3JIKNDB7.gfortran-win_amd64.dll\n",
      "  stacklevel=1)\n"
     ]
    }
   ],
   "source": [
    "import pickle\n",
    "import yaml\n",
    "import datetime\n",
    "import glob\n",
    "import os\n",
    "import pathlib\n",
    "\n",
    "import seaborn as sns\n",
    "import matplotlib.pyplot as plt\n",
    "import numpy as np\n",
    "import pandas as pd\n",
    "\n",
    "from PIL import Image\n",
    "\n",
    "from tensorflow import keras as kr\n",
    "from sklearn import svm\n",
    "from sklearn.model_selection import train_test_split"
   ]
  },
  {
   "cell_type": "markdown",
   "metadata": {},
   "source": [
    "# Reading image files"
   ]
  },
  {
   "cell_type": "code",
   "execution_count": 2,
   "metadata": {},
   "outputs": [],
   "source": [
    "with open('parameters.yaml') as yaml_data:\n",
    "    params = yaml.safe_load(yaml_data)\n",
    "    \n",
    "TRAINING_CSV_PATH = params['paths']['TRAINING_CSV']\n",
    "TEST_CSV_PATH = params['paths']['TEST_CSV']\n",
    "TEST_GT_PATH = params['paths']['TEST_GT']\n",
    "\n",
    "IMAGE_WIDTH = params['parameters']['IMAGE_WIDTH']\n",
    "IMAGE_HEIGHT = params['parameters']['IMAGE_HEIGHT']"
   ]
  },
  {
   "cell_type": "code",
   "execution_count": 3,
   "metadata": {},
   "outputs": [],
   "source": [
    "def build_images_database(path):\n",
    "    \"\"\"Build a pandas DataFrame with all images information.\n",
    "    \n",
    "    Parameters\n",
    "    ----------\n",
    "    path: path pattern to read csv files containing images information\n",
    "    \n",
    "    Returns\n",
    "    -------\n",
    "    A pandas DataFrame with one line per image\n",
    "    \"\"\"\n",
    "    df_list = []\n",
    "    for filename in glob.glob(path):\n",
    "        df = pd.read_csv(filename, sep=';')\n",
    "        df['path'] = os.path.dirname(filename) + '/' + df['Filename']\n",
    "        df_list.append(df)\n",
    "    \n",
    "    return pd.concat(df_list, ignore_index=True)\n",
    "\n",
    "\n",
    "def build_images_list(filename_list, boxes_list=None):\n",
    "    \"\"\"Build a list of images as Numpy array\n",
    "    \n",
    "    Parameters\n",
    "    ----------\n",
    "    filename_list: list of images filenames\n",
    "    boxes_list: optional list of boxes for clipping within images. Boxes are 4-tuples (x1, y1, x2, y2).\n",
    "    \n",
    "    Returns\n",
    "    -------\n",
    "    A list of images as Numpy arrays\n",
    "    \n",
    "    \"\"\"\n",
    "    \n",
    "    # If no boxes_list is given, generate a fake boxes list with None boxes\n",
    "    # image.resize will take full size images if argument box == None\n",
    "    if boxes_list is None:\n",
    "        boxes_list = [None] * len(filename_list)\n",
    "        \n",
    "    assert len(filename_list) == len(boxes_list), \"filenames and boxes lists must have the same length\"\n",
    "    \n",
    "    images_list = []\n",
    "    for (filename, image_box) in zip(filename_list, boxes_list):\n",
    "        image = Image.open(filename)\n",
    "        image = image.resize((IMAGE_WIDTH, IMAGE_HEIGHT), box=image_box) # box argument clips image to (x1, y1, x2, y2)\n",
    "        image = np.array(image)\n",
    "        images_list.append(image)\n",
    "        \n",
    "    return images_list\n",
    "\n",
    "\n",
    "def build_classes_array(df, col_name='ClassId'):\n",
    "    \"\"\"Build a vector (numpy array) of classes\n",
    "    \n",
    "    Parameters\n",
    "    ----------\n",
    "    df: pandas DataFrame with a column containing classes id\n",
    "    \n",
    "    Returns\n",
    "    -------\n",
    "    Numpy array with image classes\n",
    "    \n",
    "    \"\"\"\n",
    "    return df[col_name].values\n"
   ]
  },
  {
   "cell_type": "code",
   "execution_count": 4,
   "metadata": {},
   "outputs": [
    {
     "data": {
      "text/html": [
       "<div>\n",
       "<style scoped>\n",
       "    .dataframe tbody tr th:only-of-type {\n",
       "        vertical-align: middle;\n",
       "    }\n",
       "\n",
       "    .dataframe tbody tr th {\n",
       "        vertical-align: top;\n",
       "    }\n",
       "\n",
       "    .dataframe thead th {\n",
       "        text-align: right;\n",
       "    }\n",
       "</style>\n",
       "<table border=\"1\" class=\"dataframe\">\n",
       "  <thead>\n",
       "    <tr style=\"text-align: right;\">\n",
       "      <th></th>\n",
       "      <th>Filename</th>\n",
       "      <th>Width</th>\n",
       "      <th>Height</th>\n",
       "      <th>Roi.X1</th>\n",
       "      <th>Roi.Y1</th>\n",
       "      <th>Roi.X2</th>\n",
       "      <th>Roi.Y2</th>\n",
       "      <th>ClassId</th>\n",
       "      <th>path</th>\n",
       "    </tr>\n",
       "  </thead>\n",
       "  <tbody>\n",
       "    <tr>\n",
       "      <th>0</th>\n",
       "      <td>00000_00000.ppm</td>\n",
       "      <td>29</td>\n",
       "      <td>30</td>\n",
       "      <td>5</td>\n",
       "      <td>6</td>\n",
       "      <td>24</td>\n",
       "      <td>25</td>\n",
       "      <td>0</td>\n",
       "      <td>../data/raw/GTSRB_Final_Training_Images/GTSRB/...</td>\n",
       "    </tr>\n",
       "    <tr>\n",
       "      <th>1</th>\n",
       "      <td>00000_00001.ppm</td>\n",
       "      <td>30</td>\n",
       "      <td>30</td>\n",
       "      <td>5</td>\n",
       "      <td>5</td>\n",
       "      <td>25</td>\n",
       "      <td>25</td>\n",
       "      <td>0</td>\n",
       "      <td>../data/raw/GTSRB_Final_Training_Images/GTSRB/...</td>\n",
       "    </tr>\n",
       "    <tr>\n",
       "      <th>2</th>\n",
       "      <td>00000_00002.ppm</td>\n",
       "      <td>30</td>\n",
       "      <td>30</td>\n",
       "      <td>5</td>\n",
       "      <td>5</td>\n",
       "      <td>25</td>\n",
       "      <td>25</td>\n",
       "      <td>0</td>\n",
       "      <td>../data/raw/GTSRB_Final_Training_Images/GTSRB/...</td>\n",
       "    </tr>\n",
       "    <tr>\n",
       "      <th>3</th>\n",
       "      <td>00000_00003.ppm</td>\n",
       "      <td>31</td>\n",
       "      <td>31</td>\n",
       "      <td>5</td>\n",
       "      <td>5</td>\n",
       "      <td>26</td>\n",
       "      <td>26</td>\n",
       "      <td>0</td>\n",
       "      <td>../data/raw/GTSRB_Final_Training_Images/GTSRB/...</td>\n",
       "    </tr>\n",
       "    <tr>\n",
       "      <th>4</th>\n",
       "      <td>00000_00004.ppm</td>\n",
       "      <td>30</td>\n",
       "      <td>32</td>\n",
       "      <td>5</td>\n",
       "      <td>6</td>\n",
       "      <td>25</td>\n",
       "      <td>26</td>\n",
       "      <td>0</td>\n",
       "      <td>../data/raw/GTSRB_Final_Training_Images/GTSRB/...</td>\n",
       "    </tr>\n",
       "  </tbody>\n",
       "</table>\n",
       "</div>"
      ],
      "text/plain": [
       "          Filename  Width  Height  Roi.X1  Roi.Y1  Roi.X2  Roi.Y2  ClassId  \\\n",
       "0  00000_00000.ppm     29      30       5       6      24      25        0   \n",
       "1  00000_00001.ppm     30      30       5       5      25      25        0   \n",
       "2  00000_00002.ppm     30      30       5       5      25      25        0   \n",
       "3  00000_00003.ppm     31      31       5       5      26      26        0   \n",
       "4  00000_00004.ppm     30      32       5       6      25      26        0   \n",
       "\n",
       "                                                path  \n",
       "0  ../data/raw/GTSRB_Final_Training_Images/GTSRB/...  \n",
       "1  ../data/raw/GTSRB_Final_Training_Images/GTSRB/...  \n",
       "2  ../data/raw/GTSRB_Final_Training_Images/GTSRB/...  \n",
       "3  ../data/raw/GTSRB_Final_Training_Images/GTSRB/...  \n",
       "4  ../data/raw/GTSRB_Final_Training_Images/GTSRB/...  "
      ]
     },
     "execution_count": 4,
     "metadata": {},
     "output_type": "execute_result"
    }
   ],
   "source": [
    "images_df = build_images_database(TRAINING_CSV_PATH)\n",
    "images_df.head()"
   ]
  },
  {
   "cell_type": "markdown",
   "metadata": {},
   "source": [
    "# Training the model"
   ]
  },
  {
   "cell_type": "code",
   "execution_count": 5,
   "metadata": {},
   "outputs": [
    {
     "name": "stdout",
     "output_type": "stream",
     "text": [
      "(39209, 30, 30, 3) (39209,)\n"
     ]
    }
   ],
   "source": [
    "N = 10_000\n",
    "N = None # Take all\n",
    "\n",
    "if N is None:\n",
    "  images_list = build_images_list(images_df['path'].values,\n",
    "                                  images_df.apply(lambda r: (r['Roi.X1'], r['Roi.Y1'], r['Roi.X2'], r['Roi.Y2']),\n",
    "                                                        axis=1).values)\n",
    "  data = np.array(images_list)\n",
    "  labels = build_classes_array(images_df)\n",
    "else:\n",
    "  images_list = build_images_list(images_df.head(N)['path'].values,\n",
    "                                  images_df.head(N).apply(lambda r: (r['Roi.X1'], r['Roi.Y1'], r['Roi.X2'], r['Roi.Y2']),\n",
    "                                                            axis=1).values)\n",
    "  data = np.array(images_list)\n",
    "  labels = build_classes_array(images_df)[:N]\n",
    "\n",
    "print(data.shape, labels.shape)"
   ]
  },
  {
   "cell_type": "code",
   "execution_count": 6,
   "metadata": {},
   "outputs": [
    {
     "name": "stdout",
     "output_type": "stream",
     "text": [
      "(31367, 30, 30, 3) (7842, 30, 30, 3) (31367,) (7842,)\n"
     ]
    }
   ],
   "source": [
    "#Splitting training and testing dataset\n",
    "X_train, X_test, y_train, y_test = train_test_split(data, labels, test_size=0.2, random_state=42)\n",
    "\n",
    "print(X_train.shape, X_test.shape, y_train.shape, y_test.shape)"
   ]
  },
  {
   "cell_type": "code",
   "execution_count": 7,
   "metadata": {},
   "outputs": [],
   "source": [
    "#Reshaping data \n",
    "X_train_size = X_train.shape[0]\n",
    "X_test_size = X_test.shape[0]\n",
    "\n",
    "X_train = X_train.reshape(X_train_size,-1)\n",
    "X_test = X_test.reshape(X_test_size,-1)"
   ]
  },
  {
   "cell_type": "code",
   "execution_count": 8,
   "metadata": {
    "scrolled": true
   },
   "outputs": [
    {
     "data": {
      "text/plain": [
       "SVC(C=1.0, break_ties=False, cache_size=200, class_weight=None, coef0=0.0,\n",
       "    decision_function_shape='ovr', degree=3, gamma='scale', kernel='linear',\n",
       "    max_iter=-1, probability=False, random_state=1, shrinking=True, tol=0.001,\n",
       "    verbose=False)"
      ]
     },
     "execution_count": 8,
     "metadata": {},
     "output_type": "execute_result"
    }
   ],
   "source": [
    "model = svm.SVC(kernel='linear', random_state=1)\n",
    "model.fit(X_train, y_train)"
   ]
  },
  {
   "cell_type": "markdown",
   "metadata": {},
   "source": [
    "# Saving the model"
   ]
  },
  {
   "cell_type": "code",
   "execution_count": 9,
   "metadata": {},
   "outputs": [],
   "source": [
    "def save_classifier(model, basename):\n",
    "    \"\"\"Save to pickle format a SVM model with a timestamp\n",
    "\n",
    "    Paramaters\n",
    "    ----------\n",
    "    model: trained model\n",
    "    basename: basename including path to use for filename\n",
    "\n",
    "    Returns\n",
    "    -------\n",
    "    None\n",
    "    \"\"\"\n",
    "    pickle.dump(model, open(basename, 'wb'))\n",
    " \n",
    "    return"
   ]
  },
  {
   "cell_type": "code",
   "execution_count": 10,
   "metadata": {},
   "outputs": [],
   "source": [
    "save_classifier(model, '../models/traffic_signs_svm.pickle')\n",
    "test_model = pickle.load(open('../models/traffic_signs_svm.pickle', 'rb'))"
   ]
  },
  {
   "cell_type": "markdown",
   "metadata": {},
   "source": [
    "# Testing the model"
   ]
  },
  {
   "cell_type": "code",
   "execution_count": 11,
   "metadata": {},
   "outputs": [],
   "source": [
    "def classify_image(path, model, image_box=None):\n",
    "  \"\"\"Classify image by model\n",
    "\n",
    "  Parameters\n",
    "  ----------\n",
    "  path: filepath to image\n",
    "  model: SVM classifier\n",
    "\n",
    "  Returns\n",
    "  -------\n",
    "  class id returned by model classifier\n",
    "  \"\"\"\n",
    "  images_list = []\n",
    "  image = Image.open(path)\n",
    "  image = image.resize((IMAGE_WIDTH, IMAGE_HEIGHT), box=image_box) # box argument clips image to (x1, y1, x2, y2)\n",
    "  image = np.array(image)\n",
    "  images_list.append(image)\n",
    "  \n",
    "  return model.predict(np.array(images_list).reshape(1, -1))"
   ]
  },
  {
   "cell_type": "code",
   "execution_count": 12,
   "metadata": {},
   "outputs": [
    {
     "data": {
      "text/plain": [
       "array([8], dtype=int64)"
      ]
     },
     "execution_count": 12,
     "metadata": {},
     "output_type": "execute_result"
    }
   ],
   "source": [
    "image_sample = images_df.sample(1)\n",
    "\n",
    "classify_image(image_sample['path'].values[0],\n",
    "               test_model,\n",
    "               image_sample.apply(lambda r: (r['Roi.X1'], r['Roi.Y1'], r['Roi.X2'], r['Roi.Y2']),\n",
    "                                  axis=1).values[0]\n",
    "               )"
   ]
  },
  {
   "cell_type": "code",
   "execution_count": 13,
   "metadata": {
    "scrolled": true
   },
   "outputs": [
    {
     "data": {
      "text/plain": [
       "<matplotlib.image.AxesImage at 0x1750907da48>"
      ]
     },
     "execution_count": 13,
     "metadata": {},
     "output_type": "execute_result"
    },
    {
     "data": {
      "image/png": "[encoded data removed]",
      "text/plain": [
       "<Figure size 432x288 with 1 Axes>"
      ]
     },
     "metadata": {
      "needs_background": "light"
     },
     "output_type": "display_data"
    }
   ],
   "source": [
    "plt.imshow(Image.open(image_sample['path'].values[0]))"
   ]
  },
  {
   "cell_type": "markdown",
   "metadata": {},
   "source": [
    "# Load test "
   ]
  },
  {
   "cell_type": "code",
   "execution_count": 14,
   "metadata": {},
   "outputs": [
    {
     "data": {
      "text/html": [
       "<div>\n",
       "<style scoped>\n",
       "    .dataframe tbody tr th:only-of-type {\n",
       "        vertical-align: middle;\n",
       "    }\n",
       "\n",
       "    .dataframe tbody tr th {\n",
       "        vertical-align: top;\n",
       "    }\n",
       "\n",
       "    .dataframe thead th {\n",
       "        text-align: right;\n",
       "    }\n",
       "</style>\n",
       "<table border=\"1\" class=\"dataframe\">\n",
       "  <thead>\n",
       "    <tr style=\"text-align: right;\">\n",
       "      <th></th>\n",
       "      <th>Filename</th>\n",
       "      <th>Width</th>\n",
       "      <th>Height</th>\n",
       "      <th>Roi.X1</th>\n",
       "      <th>Roi.Y1</th>\n",
       "      <th>Roi.X2</th>\n",
       "      <th>Roi.Y2</th>\n",
       "      <th>ClassId</th>\n",
       "      <th>path</th>\n",
       "    </tr>\n",
       "  </thead>\n",
       "  <tbody>\n",
       "    <tr>\n",
       "      <th>12625</th>\n",
       "      <td>12625.ppm</td>\n",
       "      <td>42</td>\n",
       "      <td>41</td>\n",
       "      <td>5</td>\n",
       "      <td>6</td>\n",
       "      <td>37</td>\n",
       "      <td>36</td>\n",
       "      <td>12</td>\n",
       "      <td>../data/raw/GTSRB_Final_Test_Images/GTSRB/Fina...</td>\n",
       "    </tr>\n",
       "    <tr>\n",
       "      <th>12626</th>\n",
       "      <td>12626.ppm</td>\n",
       "      <td>50</td>\n",
       "      <td>51</td>\n",
       "      <td>6</td>\n",
       "      <td>5</td>\n",
       "      <td>45</td>\n",
       "      <td>46</td>\n",
       "      <td>33</td>\n",
       "      <td>../data/raw/GTSRB_Final_Test_Images/GTSRB/Fina...</td>\n",
       "    </tr>\n",
       "    <tr>\n",
       "      <th>12627</th>\n",
       "      <td>12627.ppm</td>\n",
       "      <td>29</td>\n",
       "      <td>29</td>\n",
       "      <td>6</td>\n",
       "      <td>6</td>\n",
       "      <td>24</td>\n",
       "      <td>24</td>\n",
       "      <td>6</td>\n",
       "      <td>../data/raw/GTSRB_Final_Test_Images/GTSRB/Fina...</td>\n",
       "    </tr>\n",
       "    <tr>\n",
       "      <th>12628</th>\n",
       "      <td>12628.ppm</td>\n",
       "      <td>48</td>\n",
       "      <td>49</td>\n",
       "      <td>5</td>\n",
       "      <td>6</td>\n",
       "      <td>43</td>\n",
       "      <td>44</td>\n",
       "      <td>7</td>\n",
       "      <td>../data/raw/GTSRB_Final_Test_Images/GTSRB/Fina...</td>\n",
       "    </tr>\n",
       "    <tr>\n",
       "      <th>12629</th>\n",
       "      <td>12629.ppm</td>\n",
       "      <td>32</td>\n",
       "      <td>31</td>\n",
       "      <td>6</td>\n",
       "      <td>5</td>\n",
       "      <td>27</td>\n",
       "      <td>26</td>\n",
       "      <td>10</td>\n",
       "      <td>../data/raw/GTSRB_Final_Test_Images/GTSRB/Fina...</td>\n",
       "    </tr>\n",
       "  </tbody>\n",
       "</table>\n",
       "</div>"
      ],
      "text/plain": [
       "        Filename  Width  Height  Roi.X1  Roi.Y1  Roi.X2  Roi.Y2  ClassId  \\\n",
       "12625  12625.ppm     42      41       5       6      37      36       12   \n",
       "12626  12626.ppm     50      51       6       5      45      46       33   \n",
       "12627  12627.ppm     29      29       6       6      24      24        6   \n",
       "12628  12628.ppm     48      49       5       6      43      44        7   \n",
       "12629  12629.ppm     32      31       6       5      27      26       10   \n",
       "\n",
       "                                                    path  \n",
       "12625  ../data/raw/GTSRB_Final_Test_Images/GTSRB/Fina...  \n",
       "12626  ../data/raw/GTSRB_Final_Test_Images/GTSRB/Fina...  \n",
       "12627  ../data/raw/GTSRB_Final_Test_Images/GTSRB/Fina...  \n",
       "12628  ../data/raw/GTSRB_Final_Test_Images/GTSRB/Fina...  \n",
       "12629  ../data/raw/GTSRB_Final_Test_Images/GTSRB/Fina...  "
      ]
     },
     "execution_count": 14,
     "metadata": {},
     "output_type": "execute_result"
    }
   ],
   "source": [
    "test_images_df = pd.read_csv(TEST_GT_PATH, sep=';')\n",
    "test_images_df['path'] = test_images_df['Filename'].apply(lambda x: TEST_CSV_PATH + x)\n",
    "test_images_df.tail()"
   ]
  },
  {
   "cell_type": "code",
   "execution_count": 15,
   "metadata": {},
   "outputs": [],
   "source": [
    "test_list = build_images_list(test_images_df['path'].values,\n",
    "                                test_images_df.apply(lambda r: (r['Roi.X1'], r['Roi.Y1'], r['Roi.X2'], r['Roi.Y2']),\n",
    "                                                          axis=1).values)\n",
    "test_data = np.array(test_list)\n",
    "test_labels = build_classes_array(test_images_df)\n",
    "\n",
    "#reshape in array for SVM\n",
    "test_data_SVM = test_data.reshape(test_data.shape[0], -1)"
   ]
  },
  {
   "cell_type": "code",
   "execution_count": 16,
   "metadata": {},
   "outputs": [],
   "source": [
    "results = test_model.predict(test_data_SVM)"
   ]
  },
  {
   "cell_type": "code",
   "execution_count": 17,
   "metadata": {},
   "outputs": [
    {
     "data": {
      "text/plain": [
       "0.8738717339667459"
      ]
     },
     "execution_count": 17,
     "metadata": {},
     "output_type": "execute_result"
    }
   ],
   "source": [
    "(test_labels == results).sum() / test_labels.shape[0]"
   ]
  },
  {
   "cell_type": "markdown",
   "metadata": {},
   "source": [
    "# Load Neural Network model"
   ]
  },
  {
   "cell_type": "code",
   "execution_count": 18,
   "metadata": {},
   "outputs": [],
   "source": [
    "test_model_NN = kr.models.load_model('../models/traffic_signs_2021-03-26_16-48-07.h5')"
   ]
  },
  {
   "cell_type": "code",
   "execution_count": 19,
   "metadata": {},
   "outputs": [
    {
     "name": "stderr",
     "output_type": "stream",
     "text": [
      "C:\\Users\\Extra\\anaconda3\\lib\\site-packages\\tensorflow\\python\\keras\\engine\\sequential.py:450: UserWarning: `model.predict_classes()` is deprecated and will be removed after 2021-01-01. Please use instead:* `np.argmax(model.predict(x), axis=-1)`,   if your model does multi-class classification   (e.g. if it uses a `softmax` last-layer activation).* `(model.predict(x) > 0.5).astype(\"int32\")`,   if your model does binary classification   (e.g. if it uses a `sigmoid` last-layer activation).\n",
      "  warnings.warn('`model.predict_classes()` is deprecated and '\n"
     ]
    }
   ],
   "source": [
    "results_NN = test_model_NN.predict_classes(test_data)"
   ]
  },
  {
   "cell_type": "code",
   "execution_count": 23,
   "metadata": {},
   "outputs": [
    {
     "data": {
      "text/plain": [
       "0.9588281868566905"
      ]
     },
     "execution_count": 23,
     "metadata": {},
     "output_type": "execute_result"
    }
   ],
   "source": [
    "(test_labels == results_NN).sum() / test_labels.shape[0]"
   ]
  },
  {
   "cell_type": "markdown",
   "metadata": {},
   "source": [
    "# Compare actual to predicted (class level) for both models"
   ]
  },
  {
   "cell_type": "code",
   "execution_count": null,
   "metadata": {},
   "outputs": [],
   "source": [
    "# We can see that our Neural Network model is better to predict classes, in particular the following ones : \n",
    "# 0 (Speed limit (20km/h), 18 (General caution), 19 (Dangerous Curve Left), 21 (Double curve), \n",
    "# 24 (Road narrows on the right), 27 (Pedestrians), 30 (Beware of ice/snow)\n",
    "\n",
    "# SVM model give slightly better results for : \n",
    "# 32 (End speed + passing limits) , 40 (Roundabout mandatory) , 41 (End of no passing)\n",
    "\n",
    "# To conclude, we can say that our Neural Network model is better, but 95% of accuracy is still quite low\n",
    "# to be used, in particular for a subject as sensible as a road sign in which a mistake can have big consequences."
   ]
  },
  {
   "cell_type": "code",
   "execution_count": 20,
   "metadata": {},
   "outputs": [
    {
     "data": {
      "text/html": [
       "<div>\n",
       "<style scoped>\n",
       "    .dataframe tbody tr th:only-of-type {\n",
       "        vertical-align: middle;\n",
       "    }\n",
       "\n",
       "    .dataframe tbody tr th {\n",
       "        vertical-align: top;\n",
       "    }\n",
       "\n",
       "    .dataframe thead th {\n",
       "        text-align: right;\n",
       "    }\n",
       "</style>\n",
       "<table border=\"1\" class=\"dataframe\">\n",
       "  <thead>\n",
       "    <tr style=\"text-align: right;\">\n",
       "      <th></th>\n",
       "      <th>actual</th>\n",
       "      <th>predicted</th>\n",
       "      <th>predicted_NN</th>\n",
       "    </tr>\n",
       "  </thead>\n",
       "  <tbody>\n",
       "    <tr>\n",
       "      <th>0</th>\n",
       "      <td>16</td>\n",
       "      <td>16</td>\n",
       "      <td>16</td>\n",
       "    </tr>\n",
       "    <tr>\n",
       "      <th>1</th>\n",
       "      <td>1</td>\n",
       "      <td>1</td>\n",
       "      <td>1</td>\n",
       "    </tr>\n",
       "    <tr>\n",
       "      <th>2</th>\n",
       "      <td>38</td>\n",
       "      <td>38</td>\n",
       "      <td>38</td>\n",
       "    </tr>\n",
       "    <tr>\n",
       "      <th>3</th>\n",
       "      <td>33</td>\n",
       "      <td>33</td>\n",
       "      <td>33</td>\n",
       "    </tr>\n",
       "    <tr>\n",
       "      <th>4</th>\n",
       "      <td>11</td>\n",
       "      <td>11</td>\n",
       "      <td>11</td>\n",
       "    </tr>\n",
       "  </tbody>\n",
       "</table>\n",
       "</div>"
      ],
      "text/plain": [
       "   actual  predicted  predicted_NN\n",
       "0      16         16            16\n",
       "1       1          1             1\n",
       "2      38         38            38\n",
       "3      33         33            33\n",
       "4      11         11            11"
      ]
     },
     "execution_count": 20,
     "metadata": {},
     "output_type": "execute_result"
    }
   ],
   "source": [
    "accuracy_df = pd.DataFrame()\n",
    "accuracy_df['actual'] = test_labels\n",
    "accuracy_df['predicted'] = results\n",
    "accuracy_df['predicted_NN'] = results_NN\n",
    "\n",
    "accuracy_df.head()"
   ]
  },
  {
   "cell_type": "code",
   "execution_count": 21,
   "metadata": {},
   "outputs": [
    {
     "data": {
      "text/plain": [
       "Text(0.5, 1, 'SVM heatmap')"
      ]
     },
     "execution_count": 21,
     "metadata": {},
     "output_type": "execute_result"
    },
    {
     "data": {
      "image/png": "[encoded data removed]",
      "text/plain": [
       "<Figure size 864x720 with 2 Axes>"
      ]
     },
     "metadata": {
      "needs_background": "light"
     },
     "output_type": "display_data"
    }
   ],
   "source": [
    "fig, ax = plt.subplots(figsize=(12, 10))\n",
    "sns.heatmap(pd.crosstab(accuracy_df['actual'], accuracy_df['predicted'], normalize='index'),\n",
    "            cmap='vlag',\n",
    "            ax=ax);\n",
    "ax.set_title('SVM heatmap')"
   ]
  },
  {
   "cell_type": "code",
   "execution_count": 22,
   "metadata": {},
   "outputs": [
    {
     "data": {
      "text/plain": [
       "Text(0.5, 1, 'NN heatmap')"
      ]
     },
     "execution_count": 22,
     "metadata": {},
     "output_type": "execute_result"
    },
    {
     "data": {
      "image/png": "[encoded data removed]",
      "text/plain": [
       "<Figure size 864x720 with 2 Axes>"
      ]
     },
     "metadata": {
      "needs_background": "light"
     },
     "output_type": "display_data"
    }
   ],
   "source": [
    "fig, ax = plt.subplots(figsize=(12, 10))\n",
    "sns.heatmap(pd.crosstab(accuracy_df['actual'], accuracy_df['predicted_NN'], normalize='index'),\n",
    "            cmap='vlag',\n",
    "            ax=ax);\n",
    "ax.set_title('NN heatmap')"
   ]
  }
 ],
 "metadata": {
  "kernelspec": {
   "display_name": "Python 3",
   "language": "python",
   "name": "python3"
  },
  "language_info": {
   "codemirror_mode": {
    "name": "ipython",
    "version": 3
   },
   "file_extension": ".py",
   "mimetype": "text/x-python",
   "name": "python",
   "nbconvert_exporter": "python",
   "pygments_lexer": "ipython3",
   "version": "3.7.6"
  }
 },
 "nbformat": 4,
 "nbformat_minor": 4
}
